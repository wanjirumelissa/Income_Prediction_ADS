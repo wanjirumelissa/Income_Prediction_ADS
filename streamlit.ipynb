{
 "cells": [
  {
   "cell_type": "code",
   "execution_count": 1,
   "id": "207cb6ae",
   "metadata": {},
   "outputs": [
    {
     "name": "stderr",
     "output_type": "stream",
     "text": [
      "2023-12-05 17:15:19.383 \n",
      "  \u001b[33m\u001b[1mWarning:\u001b[0m to view this Streamlit app on a browser, run it with the following\n",
      "  command:\n",
      "\n",
      "    streamlit run C:\\Users\\admin\\Desktop\\Anaconda\\Lib\\site-packages\\ipykernel_launcher.py [ARGUMENTS]\n"
     ]
    },
    {
     "data": {
      "text/plain": [
       "<Figure size 800x600 with 0 Axes>"
      ]
     },
     "metadata": {},
     "output_type": "display_data"
    }
   ],
   "source": [
    "import streamlit as st\n",
    "import pandas as pd\n",
    "import numpy as np\n",
    "import matplotlib.pyplot as plt\n",
    "import seaborn as sns\n",
    "from sklearn.preprocessing import StandardScaler\n",
    "import joblib\n",
    "from sklearn.metrics import mean_squared_error, r2_score\n",
    "\n",
    "# Suppress the warning related to st.pyplot()\n",
    "st.set_option('deprecation.showPyplotGlobalUse', False)\n",
    "\n",
    "# Load the model\n",
    "model_path = \"best_model3.pkl\"\n",
    "loaded_model = joblib.load(model_path)\n",
    "\n",
    "# Streamlit App\n",
    "st.title(\"Income Prediction Model Explorer\")\n",
    "\n",
    "# Project Explanation\n",
    "st.markdown(\"## Income Prediction Project\\nPredicts income based on key features such as employment duration, car ownership, and more.\")\n",
    "\n",
    "# Upload CSV data through Streamlit\n",
    "file_path = 'C:/Users/admin/Documents/Income_Prediction_ADS/dataset1.csv'\n",
    "df = pd.read_csv(file_path)\n",
    "\n",
    "# Display the first few rows of the DataFrame\n",
    "st.subheader(\"Dataset Preview\")\n",
    "st.write(df.head())\n",
    "\n",
    "# Feature selection and scaling\n",
    "features = ['employ', 'car', 'carcat', 'age', 'inccat']\n",
    "df_selected = df[features]\n",
    "scaler = StandardScaler()\n",
    "df_scaled = pd.DataFrame(scaler.fit_transform(df_selected), columns=features)\n",
    "\n",
    "# Prediction using the linear regression model\n",
    "st.subheader(\"Linear Regression Model Prediction\")\n",
    "\n",
    "# Make predictions\n",
    "predictions = loaded_model.predict(df_scaled)\n",
    "df[\"Predicted Income\"] = predictions\n",
    "st.write(df[[\"income\", \"Predicted Income\"]])\n",
    "\n",
    "# Scatter plot of predicted vs. actual income\n",
    "plt.figure(figsize=(8, 6))\n",
    "sns.scatterplot(x='income', y='Predicted Income', data=df)\n",
    "plt.title('Predicted vs. Actual Income')\n",
    "plt.xlabel('Actual Income')\n",
    "plt.ylabel('Predicted Income')\n",
    "st.pyplot()\n",
    "\n",
    "# Model coefficients visualization\n",
    "st.subheader(\"Model Coefficients\")\n",
    "coef_df = pd.DataFrame({'Feature': features, 'Coefficient': loaded_model.coef_})\n",
    "st.bar_chart(coef_df.set_index('Feature'))\n",
    "\n",
    "# Evaluation metrics\n",
    "st.subheader(\"Model Evaluation Metrics\")\n",
    "y_test = df[\"income\"]\n",
    "y_pred = loaded_model.predict(df_scaled)\n",
    "st.write(\"Mean Squared Error:\", mean_squared_error(y_test, y_pred))\n",
    "st.write(\"R-squared:\", r2_score(y_test, y_pred))"
   ]
  },
  {
   "cell_type": "code",
   "execution_count": null,
   "id": "06f35061",
   "metadata": {},
   "outputs": [],
   "source": []
  }
 ],
 "metadata": {
  "kernelspec": {
   "display_name": "Python 3 (ipykernel)",
   "language": "python",
   "name": "python3"
  },
  "language_info": {
   "codemirror_mode": {
    "name": "ipython",
    "version": 3
   },
   "file_extension": ".py",
   "mimetype": "text/x-python",
   "name": "python",
   "nbconvert_exporter": "python",
   "pygments_lexer": "ipython3",
   "version": "3.11.5"
  }
 },
 "nbformat": 4,
 "nbformat_minor": 5
}
